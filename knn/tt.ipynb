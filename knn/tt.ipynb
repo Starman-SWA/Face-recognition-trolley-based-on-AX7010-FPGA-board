{
 "metadata": {
  "language_info": {
   "codemirror_mode": {
    "name": "ipython",
    "version": 3
   },
   "file_extension": ".py",
   "mimetype": "text/x-python",
   "name": "python",
   "nbconvert_exporter": "python",
   "pygments_lexer": "ipython3",
   "version": 3
  },
  "orig_nbformat": 2
 },
 "nbformat": 4,
 "nbformat_minor": 2,
 "cells": [
  {
   "cell_type": "code",
   "execution_count": null,
   "metadata": {},
   "outputs": [],
   "source": [
    "# Capture webcam image\n",
    "import numpy as np\n",
    "import cv2\n",
    "from light_cnn_test import shift_img_with_eyes\n",
    "from read_face_data import read_face_data\n",
    "from knn import get_Kernels,KNN_with_Kernels#get_d2\n",
    "from hyperparams import Hyperparams\n",
    "hp = Hyperparams()\n",
    "\n",
    "#  读取名字列表\n",
    "name = ['error']\n",
    "name.extend(read_face_data('data/faceimg/', 0))\n",
    "name.append('error')\n",
    "print(name)"
   ]
  },
  {
   "cell_type": "code",
   "execution_count": null,
   "metadata": {},
   "outputs": [],
   "source": []
  }
 ]
}